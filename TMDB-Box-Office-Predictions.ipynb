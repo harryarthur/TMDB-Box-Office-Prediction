{
 "cells": [
  {
   "cell_type": "code",
   "execution_count": 1,
   "metadata": {},
   "outputs": [],
   "source": [
    "import pandas as pd\n",
    "import numpy as np\n",
    "import re"
   ]
  },
  {
   "cell_type": "markdown",
   "metadata": {},
   "source": [
    "# 1. Read Data"
   ]
  },
  {
   "cell_type": "code",
   "execution_count": 2,
   "metadata": {},
   "outputs": [],
   "source": [
    "train = pd.read_csv('train.csv')\n",
    "test = pd.read_csv('test.csv')"
   ]
  },
  {
   "cell_type": "code",
   "execution_count": 3,
   "metadata": {},
   "outputs": [
    {
     "data": {
      "text/plain": [
       "(3000, 23)"
      ]
     },
     "execution_count": 3,
     "metadata": {},
     "output_type": "execute_result"
    }
   ],
   "source": [
    "train.shape"
   ]
  },
  {
   "cell_type": "code",
   "execution_count": 4,
   "metadata": {},
   "outputs": [
    {
     "data": {
      "text/plain": [
       "(4398, 22)"
      ]
     },
     "execution_count": 4,
     "metadata": {},
     "output_type": "execute_result"
    }
   ],
   "source": [
    "test.shape"
   ]
  },
  {
   "cell_type": "markdown",
   "metadata": {},
   "source": [
    "# 2. Data Cleaning"
   ]
  },
  {
   "cell_type": "markdown",
   "metadata": {},
   "source": [
    "There seems to be way more test cases than training cases ideally we'd want it the other way around. Lets clean up these data sets a bit."
   ]
  },
  {
   "cell_type": "code",
   "execution_count": 5,
   "metadata": {},
   "outputs": [
    {
     "data": {
      "text/html": [
       "<div>\n",
       "<style scoped>\n",
       "    .dataframe tbody tr th:only-of-type {\n",
       "        vertical-align: middle;\n",
       "    }\n",
       "\n",
       "    .dataframe tbody tr th {\n",
       "        vertical-align: top;\n",
       "    }\n",
       "\n",
       "    .dataframe thead th {\n",
       "        text-align: right;\n",
       "    }\n",
       "</style>\n",
       "<table border=\"1\" class=\"dataframe\">\n",
       "  <thead>\n",
       "    <tr style=\"text-align: right;\">\n",
       "      <th></th>\n",
       "      <th>id</th>\n",
       "      <th>belongs_to_collection</th>\n",
       "      <th>budget</th>\n",
       "      <th>genres</th>\n",
       "      <th>homepage</th>\n",
       "      <th>imdb_id</th>\n",
       "      <th>original_language</th>\n",
       "      <th>original_title</th>\n",
       "      <th>overview</th>\n",
       "      <th>popularity</th>\n",
       "      <th>...</th>\n",
       "      <th>release_date</th>\n",
       "      <th>runtime</th>\n",
       "      <th>spoken_languages</th>\n",
       "      <th>status</th>\n",
       "      <th>tagline</th>\n",
       "      <th>title</th>\n",
       "      <th>Keywords</th>\n",
       "      <th>cast</th>\n",
       "      <th>crew</th>\n",
       "      <th>revenue</th>\n",
       "    </tr>\n",
       "  </thead>\n",
       "  <tbody>\n",
       "    <tr>\n",
       "      <th>0</th>\n",
       "      <td>1</td>\n",
       "      <td>[{'id': 313576, 'name': 'Hot Tub Time Machine ...</td>\n",
       "      <td>14000000</td>\n",
       "      <td>[{'id': 35, 'name': 'Comedy'}]</td>\n",
       "      <td>NaN</td>\n",
       "      <td>tt2637294</td>\n",
       "      <td>en</td>\n",
       "      <td>Hot Tub Time Machine 2</td>\n",
       "      <td>When Lou, who has become the \"father of the In...</td>\n",
       "      <td>6.575393</td>\n",
       "      <td>...</td>\n",
       "      <td>2/20/15</td>\n",
       "      <td>93.0</td>\n",
       "      <td>[{'iso_639_1': 'en', 'name': 'English'}]</td>\n",
       "      <td>Released</td>\n",
       "      <td>The Laws of Space and Time are About to be Vio...</td>\n",
       "      <td>Hot Tub Time Machine 2</td>\n",
       "      <td>[{'id': 4379, 'name': 'time travel'}, {'id': 9...</td>\n",
       "      <td>[{'cast_id': 4, 'character': 'Lou', 'credit_id...</td>\n",
       "      <td>[{'credit_id': '59ac067c92514107af02c8c8', 'de...</td>\n",
       "      <td>12314651</td>\n",
       "    </tr>\n",
       "    <tr>\n",
       "      <th>1</th>\n",
       "      <td>2</td>\n",
       "      <td>[{'id': 107674, 'name': 'The Princess Diaries ...</td>\n",
       "      <td>40000000</td>\n",
       "      <td>[{'id': 35, 'name': 'Comedy'}, {'id': 18, 'nam...</td>\n",
       "      <td>NaN</td>\n",
       "      <td>tt0368933</td>\n",
       "      <td>en</td>\n",
       "      <td>The Princess Diaries 2: Royal Engagement</td>\n",
       "      <td>Mia Thermopolis is now a college graduate and ...</td>\n",
       "      <td>8.248895</td>\n",
       "      <td>...</td>\n",
       "      <td>8/6/04</td>\n",
       "      <td>113.0</td>\n",
       "      <td>[{'iso_639_1': 'en', 'name': 'English'}]</td>\n",
       "      <td>Released</td>\n",
       "      <td>It can take a lifetime to find true love; she'...</td>\n",
       "      <td>The Princess Diaries 2: Royal Engagement</td>\n",
       "      <td>[{'id': 2505, 'name': 'coronation'}, {'id': 42...</td>\n",
       "      <td>[{'cast_id': 1, 'character': 'Mia Thermopolis'...</td>\n",
       "      <td>[{'credit_id': '52fe43fe9251416c7502563d', 'de...</td>\n",
       "      <td>95149435</td>\n",
       "    </tr>\n",
       "    <tr>\n",
       "      <th>2</th>\n",
       "      <td>3</td>\n",
       "      <td>NaN</td>\n",
       "      <td>3300000</td>\n",
       "      <td>[{'id': 18, 'name': 'Drama'}]</td>\n",
       "      <td>http://sonyclassics.com/whiplash/</td>\n",
       "      <td>tt2582802</td>\n",
       "      <td>en</td>\n",
       "      <td>Whiplash</td>\n",
       "      <td>Under the direction of a ruthless instructor, ...</td>\n",
       "      <td>64.299990</td>\n",
       "      <td>...</td>\n",
       "      <td>10/10/14</td>\n",
       "      <td>105.0</td>\n",
       "      <td>[{'iso_639_1': 'en', 'name': 'English'}]</td>\n",
       "      <td>Released</td>\n",
       "      <td>The road to greatness can take you to the edge.</td>\n",
       "      <td>Whiplash</td>\n",
       "      <td>[{'id': 1416, 'name': 'jazz'}, {'id': 1523, 'n...</td>\n",
       "      <td>[{'cast_id': 5, 'character': 'Andrew Neimann',...</td>\n",
       "      <td>[{'credit_id': '54d5356ec3a3683ba0000039', 'de...</td>\n",
       "      <td>13092000</td>\n",
       "    </tr>\n",
       "    <tr>\n",
       "      <th>3</th>\n",
       "      <td>4</td>\n",
       "      <td>NaN</td>\n",
       "      <td>1200000</td>\n",
       "      <td>[{'id': 53, 'name': 'Thriller'}, {'id': 18, 'n...</td>\n",
       "      <td>http://kahaanithefilm.com/</td>\n",
       "      <td>tt1821480</td>\n",
       "      <td>hi</td>\n",
       "      <td>Kahaani</td>\n",
       "      <td>Vidya Bagchi (Vidya Balan) arrives in Kolkata ...</td>\n",
       "      <td>3.174936</td>\n",
       "      <td>...</td>\n",
       "      <td>3/9/12</td>\n",
       "      <td>122.0</td>\n",
       "      <td>[{'iso_639_1': 'en', 'name': 'English'}, {'iso...</td>\n",
       "      <td>Released</td>\n",
       "      <td>NaN</td>\n",
       "      <td>Kahaani</td>\n",
       "      <td>[{'id': 10092, 'name': 'mystery'}, {'id': 1054...</td>\n",
       "      <td>[{'cast_id': 1, 'character': 'Vidya Bagchi', '...</td>\n",
       "      <td>[{'credit_id': '52fe48779251416c9108d6eb', 'de...</td>\n",
       "      <td>16000000</td>\n",
       "    </tr>\n",
       "    <tr>\n",
       "      <th>4</th>\n",
       "      <td>5</td>\n",
       "      <td>NaN</td>\n",
       "      <td>0</td>\n",
       "      <td>[{'id': 28, 'name': 'Action'}, {'id': 53, 'nam...</td>\n",
       "      <td>NaN</td>\n",
       "      <td>tt1380152</td>\n",
       "      <td>ko</td>\n",
       "      <td>마린보이</td>\n",
       "      <td>Marine Boy is the story of a former national s...</td>\n",
       "      <td>1.148070</td>\n",
       "      <td>...</td>\n",
       "      <td>2/5/09</td>\n",
       "      <td>118.0</td>\n",
       "      <td>[{'iso_639_1': 'ko', 'name': '한국어/조선말'}]</td>\n",
       "      <td>Released</td>\n",
       "      <td>NaN</td>\n",
       "      <td>Marine Boy</td>\n",
       "      <td>NaN</td>\n",
       "      <td>[{'cast_id': 3, 'character': 'Chun-soo', 'cred...</td>\n",
       "      <td>[{'credit_id': '52fe464b9251416c75073b43', 'de...</td>\n",
       "      <td>3923970</td>\n",
       "    </tr>\n",
       "  </tbody>\n",
       "</table>\n",
       "<p>5 rows × 23 columns</p>\n",
       "</div>"
      ],
      "text/plain": [
       "   id                              belongs_to_collection    budget  \\\n",
       "0   1  [{'id': 313576, 'name': 'Hot Tub Time Machine ...  14000000   \n",
       "1   2  [{'id': 107674, 'name': 'The Princess Diaries ...  40000000   \n",
       "2   3                                                NaN   3300000   \n",
       "3   4                                                NaN   1200000   \n",
       "4   5                                                NaN         0   \n",
       "\n",
       "                                              genres  \\\n",
       "0                     [{'id': 35, 'name': 'Comedy'}]   \n",
       "1  [{'id': 35, 'name': 'Comedy'}, {'id': 18, 'nam...   \n",
       "2                      [{'id': 18, 'name': 'Drama'}]   \n",
       "3  [{'id': 53, 'name': 'Thriller'}, {'id': 18, 'n...   \n",
       "4  [{'id': 28, 'name': 'Action'}, {'id': 53, 'nam...   \n",
       "\n",
       "                            homepage    imdb_id original_language  \\\n",
       "0                                NaN  tt2637294                en   \n",
       "1                                NaN  tt0368933                en   \n",
       "2  http://sonyclassics.com/whiplash/  tt2582802                en   \n",
       "3         http://kahaanithefilm.com/  tt1821480                hi   \n",
       "4                                NaN  tt1380152                ko   \n",
       "\n",
       "                             original_title  \\\n",
       "0                    Hot Tub Time Machine 2   \n",
       "1  The Princess Diaries 2: Royal Engagement   \n",
       "2                                  Whiplash   \n",
       "3                                   Kahaani   \n",
       "4                                      마린보이   \n",
       "\n",
       "                                            overview  popularity    ...     \\\n",
       "0  When Lou, who has become the \"father of the In...    6.575393    ...      \n",
       "1  Mia Thermopolis is now a college graduate and ...    8.248895    ...      \n",
       "2  Under the direction of a ruthless instructor, ...   64.299990    ...      \n",
       "3  Vidya Bagchi (Vidya Balan) arrives in Kolkata ...    3.174936    ...      \n",
       "4  Marine Boy is the story of a former national s...    1.148070    ...      \n",
       "\n",
       "  release_date runtime                                   spoken_languages  \\\n",
       "0      2/20/15    93.0           [{'iso_639_1': 'en', 'name': 'English'}]   \n",
       "1       8/6/04   113.0           [{'iso_639_1': 'en', 'name': 'English'}]   \n",
       "2     10/10/14   105.0           [{'iso_639_1': 'en', 'name': 'English'}]   \n",
       "3       3/9/12   122.0  [{'iso_639_1': 'en', 'name': 'English'}, {'iso...   \n",
       "4       2/5/09   118.0           [{'iso_639_1': 'ko', 'name': '한국어/조선말'}]   \n",
       "\n",
       "     status                                            tagline  \\\n",
       "0  Released  The Laws of Space and Time are About to be Vio...   \n",
       "1  Released  It can take a lifetime to find true love; she'...   \n",
       "2  Released    The road to greatness can take you to the edge.   \n",
       "3  Released                                                NaN   \n",
       "4  Released                                                NaN   \n",
       "\n",
       "                                      title  \\\n",
       "0                    Hot Tub Time Machine 2   \n",
       "1  The Princess Diaries 2: Royal Engagement   \n",
       "2                                  Whiplash   \n",
       "3                                   Kahaani   \n",
       "4                                Marine Boy   \n",
       "\n",
       "                                            Keywords  \\\n",
       "0  [{'id': 4379, 'name': 'time travel'}, {'id': 9...   \n",
       "1  [{'id': 2505, 'name': 'coronation'}, {'id': 42...   \n",
       "2  [{'id': 1416, 'name': 'jazz'}, {'id': 1523, 'n...   \n",
       "3  [{'id': 10092, 'name': 'mystery'}, {'id': 1054...   \n",
       "4                                                NaN   \n",
       "\n",
       "                                                cast  \\\n",
       "0  [{'cast_id': 4, 'character': 'Lou', 'credit_id...   \n",
       "1  [{'cast_id': 1, 'character': 'Mia Thermopolis'...   \n",
       "2  [{'cast_id': 5, 'character': 'Andrew Neimann',...   \n",
       "3  [{'cast_id': 1, 'character': 'Vidya Bagchi', '...   \n",
       "4  [{'cast_id': 3, 'character': 'Chun-soo', 'cred...   \n",
       "\n",
       "                                                crew   revenue  \n",
       "0  [{'credit_id': '59ac067c92514107af02c8c8', 'de...  12314651  \n",
       "1  [{'credit_id': '52fe43fe9251416c7502563d', 'de...  95149435  \n",
       "2  [{'credit_id': '54d5356ec3a3683ba0000039', 'de...  13092000  \n",
       "3  [{'credit_id': '52fe48779251416c9108d6eb', 'de...  16000000  \n",
       "4  [{'credit_id': '52fe464b9251416c75073b43', 'de...   3923970  \n",
       "\n",
       "[5 rows x 23 columns]"
      ]
     },
     "execution_count": 5,
     "metadata": {},
     "output_type": "execute_result"
    }
   ],
   "source": [
    "train.head()"
   ]
  },
  {
   "cell_type": "markdown",
   "metadata": {},
   "source": [
    "The following columns can be dropped from our two datasets: belongs_to_collection, homepage, imdb_id, original_title, overview, poster_path, status, tagline."
   ]
  },
  {
   "cell_type": "code",
   "execution_count": 6,
   "metadata": {},
   "outputs": [],
   "source": [
    "drop_cols = ['belongs_to_collection','homepage','imdb_id','original_title','overview','poster_path','status','tagline','Keywords','crew','production_companies','production_countries','spoken_languages']"
   ]
  },
  {
   "cell_type": "code",
   "execution_count": 7,
   "metadata": {},
   "outputs": [],
   "source": [
    "for col in drop_cols:\n",
    "    train.drop(col, axis=1, inplace = True)\n",
    "    test.drop(col, axis=1, inplace = True)"
   ]
  },
  {
   "cell_type": "code",
   "execution_count": 8,
   "metadata": {},
   "outputs": [
    {
     "data": {
      "text/plain": [
       "(3000, 10)"
      ]
     },
     "execution_count": 8,
     "metadata": {},
     "output_type": "execute_result"
    }
   ],
   "source": [
    "train.shape"
   ]
  },
  {
   "cell_type": "code",
   "execution_count": 9,
   "metadata": {},
   "outputs": [
    {
     "data": {
      "text/plain": [
       "(4398, 9)"
      ]
     },
     "execution_count": 9,
     "metadata": {},
     "output_type": "execute_result"
    }
   ],
   "source": [
    "test.shape"
   ]
  },
  {
   "cell_type": "markdown",
   "metadata": {},
   "source": [
    "Now lets check null values and clean up the columns individually"
   ]
  },
  {
   "cell_type": "code",
   "execution_count": 10,
   "metadata": {},
   "outputs": [
    {
     "data": {
      "text/plain": [
       "id                    0\n",
       "budget                0\n",
       "genres                7\n",
       "original_language     0\n",
       "popularity            0\n",
       "release_date          0\n",
       "runtime               2\n",
       "title                 0\n",
       "cast                 13\n",
       "revenue               0\n",
       "dtype: int64"
      ]
     },
     "execution_count": 10,
     "metadata": {},
     "output_type": "execute_result"
    }
   ],
   "source": [
    "train.isnull().sum()"
   ]
  },
  {
   "cell_type": "code",
   "execution_count": 11,
   "metadata": {},
   "outputs": [
    {
     "data": {
      "text/plain": [
       "id                    0\n",
       "budget                0\n",
       "genres               16\n",
       "original_language     0\n",
       "popularity            0\n",
       "release_date          1\n",
       "runtime               4\n",
       "title                 3\n",
       "cast                 13\n",
       "dtype: int64"
      ]
     },
     "execution_count": 11,
     "metadata": {},
     "output_type": "execute_result"
    }
   ],
   "source": [
    "test.isnull().sum()"
   ]
  },
  {
   "cell_type": "markdown",
   "metadata": {},
   "source": [
    "## 2.1 genres\n",
    "The genres column contains a dictionary for each entry. Lets first clean up the column to only have a string of genres. The dictionary contains each genre the film is apart of, some films are apart of more than one genre."
   ]
  },
  {
   "cell_type": "code",
   "execution_count": 12,
   "metadata": {},
   "outputs": [],
   "source": [
    "#function that cleans up the genre data; essentially it just extracts the values from the value-key pairs\n",
    "def clean_genre(df):\n",
    "    clean_list = []\n",
    "    all_genres = df.genres\n",
    "    for genre in all_genres:\n",
    "        if genre is not np.nan:\n",
    "            names = re.findall(\"name': '(.*?)'}\", genre)\n",
    "            clean_list.append(names)\n",
    "        if genre is np.nan:\n",
    "            clean_list.append('NULL')\n",
    "    return clean_list"
   ]
  },
  {
   "cell_type": "code",
   "execution_count": 13,
   "metadata": {},
   "outputs": [],
   "source": [
    "clean_genrelist = clean_genre(train)"
   ]
  },
  {
   "cell_type": "code",
   "execution_count": 14,
   "metadata": {},
   "outputs": [],
   "source": [
    "train.genres = clean_genrelist"
   ]
  },
  {
   "cell_type": "code",
   "execution_count": 15,
   "metadata": {},
   "outputs": [
    {
     "data": {
      "text/plain": [
       "0                            [Comedy]\n",
       "1    [Comedy, Drama, Family, Romance]\n",
       "2                             [Drama]\n",
       "3                   [Thriller, Drama]\n",
       "4                  [Action, Thriller]\n",
       "Name: genres, dtype: object"
      ]
     },
     "execution_count": 15,
     "metadata": {},
     "output_type": "execute_result"
    }
   ],
   "source": [
    "train.genres.head(5)"
   ]
  },
  {
   "cell_type": "markdown",
   "metadata": {},
   "source": [
    "Now do the same for test dataset"
   ]
  },
  {
   "cell_type": "code",
   "execution_count": 16,
   "metadata": {},
   "outputs": [],
   "source": [
    "clean_genrelist = clean_genre(test)"
   ]
  },
  {
   "cell_type": "code",
   "execution_count": 17,
   "metadata": {},
   "outputs": [],
   "source": [
    "test.genres = clean_genrelist"
   ]
  },
  {
   "cell_type": "code",
   "execution_count": 18,
   "metadata": {},
   "outputs": [
    {
     "data": {
      "text/plain": [
       "0    [Adventure, Animation, Family, Fantasy]\n",
       "1                  [Horror, Science Fiction]\n",
       "2                          [Comedy, Romance]\n",
       "3                      [Drama, War, Mystery]\n",
       "4                     [History, Documentary]\n",
       "Name: genres, dtype: object"
      ]
     },
     "execution_count": 18,
     "metadata": {},
     "output_type": "execute_result"
    }
   ],
   "source": [
    "test.genres.head(5)"
   ]
  },
  {
   "cell_type": "markdown",
   "metadata": {},
   "source": [
    "Now that we've cleaned up the columns, lets do something about the **NULL** values. We can drop the train NULL values since there are only 7/3000 of them:"
   ]
  },
  {
   "cell_type": "code",
   "execution_count": 19,
   "metadata": {},
   "outputs": [],
   "source": [
    "for x in range (0,len(train)):\n",
    "    if train.loc[x,'genres'] == 'NULL':\n",
    "        train.drop(x, axis=0, inplace = True)"
   ]
  },
  {
   "cell_type": "code",
   "execution_count": 20,
   "metadata": {},
   "outputs": [
    {
     "data": {
      "text/plain": [
       "(2993, 10)"
      ]
     },
     "execution_count": 20,
     "metadata": {},
     "output_type": "execute_result"
    }
   ],
   "source": [
    "train.shape"
   ]
  },
  {
   "cell_type": "markdown",
   "metadata": {},
   "source": [
    "The 7 movies have been dropped from the train dataset, now lets manually edit the test dataset null genres"
   ]
  },
  {
   "cell_type": "code",
   "execution_count": 21,
   "metadata": {},
   "outputs": [
    {
     "name": "stdout",
     "output_type": "stream",
     "text": [
      "id                                                                3074\n",
      "budget                                                               0\n",
      "genres                                                            NULL\n",
      "original_language                                                   en\n",
      "popularity                                                    0.004425\n",
      "release_date                                                    5/9/86\n",
      "runtime                                                             95\n",
      "title                                                Dangerously Close\n",
      "cast                 [{'cast_id': 2, 'character': 'Randy McDevitt',...\n",
      "Name: 73, dtype: object\n",
      "id                                                                3794\n",
      "budget                                                         8000000\n",
      "genres                                                            NULL\n",
      "original_language                                                   en\n",
      "popularity                                                    0.406505\n",
      "release_date                                                   2/18/83\n",
      "runtime                                                            121\n",
      "title                                                   Table For Five\n",
      "cast                 [{'cast_id': 0, 'character': 'J.P. Tannen', 'c...\n",
      "Name: 793, dtype: object\n",
      "id                                                                3911\n",
      "budget                                                         1300000\n",
      "genres                                                            NULL\n",
      "original_language                                                   en\n",
      "popularity                                                    0.328342\n",
      "release_date                                                    3/8/51\n",
      "runtime                                                            102\n",
      "title                                                        Valentino\n",
      "cast                 [{'cast_id': 0, 'character': 'Rudolph Valentin...\n",
      "Name: 910, dtype: object\n",
      "id                                                                4222\n",
      "budget                                                               0\n",
      "genres                                                            NULL\n",
      "original_language                                                   en\n",
      "popularity                                                    0.001393\n",
      "release_date                                                   3/12/93\n",
      "runtime                                                              0\n",
      "title                                                    Street Knight\n",
      "cast                 [{'cast_id': 11, 'character': 'Jake Barrett', ...\n",
      "Name: 1221, dtype: object\n",
      "id                                                                4443\n",
      "budget                                                               0\n",
      "genres                                                            NULL\n",
      "original_language                                                   ko\n",
      "popularity                                                    0.153181\n",
      "release_date                                                    5/1/07\n",
      "runtime                                                            109\n",
      "title                                                           My Son\n",
      "cast                 [{'cast_id': 3, 'character': 'Lee Gang-Sik', '...\n",
      "Name: 1442, dtype: object\n",
      "id                                                                4616\n",
      "budget                                                         2000000\n",
      "genres                                                            NULL\n",
      "original_language                                                   en\n",
      "popularity                                                    0.995285\n",
      "release_date                                                   1/21/10\n",
      "runtime                                                             85\n",
      "title                                       Nasha Russia: Yaytsa sudby\n",
      "cast                 [{'cast_id': 7, 'character': '–±—Ä–∏–≥–∞–¥–∏—Ä...\n",
      "Name: 1615, dtype: object\n",
      "id                                                                4965\n",
      "budget                                                               0\n",
      "genres                                                            NULL\n",
      "original_language                                                   ru\n",
      "popularity                                                    0.238166\n",
      "release_date                                                  12/12/03\n",
      "runtime                                                            125\n",
      "title                                         Antikiller 2: Antiterror\n",
      "cast                 [{'cast_id': 4, 'character': 'Lis (The Fox)', ...\n",
      "Name: 1964, dtype: object\n",
      "id                                                                5063\n",
      "budget                                                               0\n",
      "genres                                                            NULL\n",
      "original_language                                                   ro\n",
      "popularity                                                     0.03856\n",
      "release_date                                                  10/21/05\n",
      "runtime                                                             95\n",
      "title                                                               15\n",
      "cast                 [{'cast_id': 1, 'character': 'Hilde', 'credit_...\n",
      "Name: 2062, dtype: object\n",
      "id                         5119\n",
      "budget                   390000\n",
      "genres                     NULL\n",
      "original_language            en\n",
      "popularity             0.016219\n",
      "release_date            7/19/14\n",
      "runtime                     148\n",
      "title                Duniyadari\n",
      "cast                         []\n",
      "Name: 2118, dtype: object\n",
      "id                                5214\n",
      "budget                               0\n",
      "genres                            NULL\n",
      "original_language                   en\n",
      "popularity                    0.004706\n",
      "release_date                   6/17/08\n",
      "runtime                             87\n",
      "title                Praying With Lior\n",
      "cast                                []\n",
      "Name: 2213, dtype: object\n",
      "id                                                                5252\n",
      "budget                                                               0\n",
      "genres                                                            NULL\n",
      "original_language                                                   en\n",
      "popularity                                                    0.022347\n",
      "release_date                                                   3/29/02\n",
      "runtime                                                             80\n",
      "title                                              Teddy Bears' Picnic\n",
      "cast                 [{'cast_id': 3, 'character': 'Joey Lavin', 'cr...\n",
      "Name: 2251, dtype: object\n",
      "id                             5520\n",
      "budget                      2500000\n",
      "genres                         NULL\n",
      "original_language                ru\n",
      "popularity                 0.209434\n",
      "release_date                 5/6/10\n",
      "runtime                           0\n",
      "title                Glukhar v kino\n",
      "cast                             []\n",
      "Name: 2519, dtype: object\n",
      "id                                                                6450\n",
      "budget                                                        13000000\n",
      "genres                                                            NULL\n",
      "original_language                                                   en\n",
      "popularity                                                    0.000657\n",
      "release_date                                                  12/25/75\n",
      "runtime                                                            118\n",
      "title                                                       Lucky Lady\n",
      "cast                 [{'cast_id': 1, 'character': 'Claire', 'credit...\n",
      "Name: 3449, dtype: object\n",
      "id                                                                6486\n",
      "budget                                                               0\n",
      "genres                                                            NULL\n",
      "original_language                                                   en\n",
      "popularity                                                    0.902846\n",
      "release_date                                                   4/29/05\n",
      "runtime                                                             92\n",
      "title                                               Death of a Dynasty\n",
      "cast                 [{'cast_id': 5, 'character': 'Dave Katz', 'cre...\n",
      "Name: 3485, dtype: object\n",
      "id                                                                6565\n",
      "budget                                                         6000000\n",
      "genres                                                            NULL\n",
      "original_language                                                   en\n",
      "popularity                                                     6.83946\n",
      "release_date                                                   6/25/04\n",
      "runtime                                                            122\n",
      "title                                                  Fahrenheit 9/11\n",
      "cast                 [{'cast_id': 25, 'character': 'Himself (archiv...\n",
      "Name: 3564, dtype: object\n",
      "id                                                                6818\n",
      "budget                                                               0\n",
      "genres                                                            NULL\n",
      "original_language                                                   fi\n",
      "popularity                                                    0.011427\n",
      "release_date                                                    1/4/13\n",
      "runtime                                                            NaN\n",
      "title                                     Miesten välisiä keskusteluja\n",
      "cast                 [{'cast_id': 0, 'character': 'Kari Mairisaari'...\n",
      "Name: 3817, dtype: object\n"
     ]
    }
   ],
   "source": [
    "for x in range (0,len(test)):\n",
    "    if test.loc[x,'genres'] == 'NULL':\n",
    "        print(test.loc[x,:])"
   ]
  },
  {
   "cell_type": "markdown",
   "metadata": {},
   "source": [
    "At Index **73** is the movie 'Dangerously Close', it was an Action Thriller"
   ]
  },
  {
   "cell_type": "code",
   "execution_count": 22,
   "metadata": {},
   "outputs": [],
   "source": [
    "#so we dont get error messages when making the updates: https://stackoverflow.com/questions/20625582/how-to-deal-with-settingwithcopywarning-in-pandas\n",
    "pd.options.mode.chained_assignment = None"
   ]
  },
  {
   "cell_type": "code",
   "execution_count": 23,
   "metadata": {},
   "outputs": [],
   "source": [
    "mylist = list(('Action','Thriller'))"
   ]
  },
  {
   "cell_type": "code",
   "execution_count": 24,
   "metadata": {},
   "outputs": [],
   "source": [
    "test.genres[73] = mylist"
   ]
  },
  {
   "cell_type": "markdown",
   "metadata": {},
   "source": [
    "At Index **793** is the movie 'Table for Five', it was a Drama"
   ]
  },
  {
   "cell_type": "code",
   "execution_count": 25,
   "metadata": {},
   "outputs": [],
   "source": [
    "#function to fill in NULL genres for test df\n",
    "def fill_genre(genres, index):\n",
    "    mylist = list((genres))\n",
    "    test.genres[index] = mylist\n",
    "    print(test.genres[index])\n",
    "    "
   ]
  },
  {
   "cell_type": "code",
   "execution_count": 26,
   "metadata": {},
   "outputs": [
    {
     "name": "stdout",
     "output_type": "stream",
     "text": [
      "['Action']\n"
     ]
    }
   ],
   "source": [
    "fill_genre(['Action'],793)"
   ]
  },
  {
   "cell_type": "markdown",
   "metadata": {},
   "source": [
    "At Index **910** is the movie 'Valentino', it was an adventure drama"
   ]
  },
  {
   "cell_type": "code",
   "execution_count": 27,
   "metadata": {},
   "outputs": [
    {
     "name": "stdout",
     "output_type": "stream",
     "text": [
      "['Adventure', 'Drama']\n"
     ]
    }
   ],
   "source": [
    "fill_genre(['Adventure','Drama'],910)"
   ]
  },
  {
   "cell_type": "markdown",
   "metadata": {},
   "source": [
    "At Index **1221** is the movie 'Street Knight', it was an Action Adventure"
   ]
  },
  {
   "cell_type": "code",
   "execution_count": 28,
   "metadata": {},
   "outputs": [
    {
     "name": "stdout",
     "output_type": "stream",
     "text": [
      "['Action', 'Adventure']\n"
     ]
    }
   ],
   "source": [
    "fill_genre(['Action','Adventure'],1221)"
   ]
  },
  {
   "cell_type": "markdown",
   "metadata": {},
   "source": [
    "At Index **1442** is the movie 'My Son', it was a Drama"
   ]
  },
  {
   "cell_type": "code",
   "execution_count": 29,
   "metadata": {},
   "outputs": [
    {
     "name": "stdout",
     "output_type": "stream",
     "text": [
      "['Drama']\n"
     ]
    }
   ],
   "source": [
    "fill_genre(['Drama'],1442)"
   ]
  },
  {
   "cell_type": "markdown",
   "metadata": {},
   "source": [
    "At Index **1615** is the movie 'Nasha Russia', it was a Comedy"
   ]
  },
  {
   "cell_type": "code",
   "execution_count": 30,
   "metadata": {},
   "outputs": [
    {
     "name": "stdout",
     "output_type": "stream",
     "text": [
      "['Comedy']\n"
     ]
    }
   ],
   "source": [
    "fill_genre(['Comedy'],1615)"
   ]
  },
  {
   "cell_type": "markdown",
   "metadata": {},
   "source": [
    "At Index **1964** is the movie 'Nasha Russia', it was a Crime Action film."
   ]
  },
  {
   "cell_type": "code",
   "execution_count": 31,
   "metadata": {},
   "outputs": [
    {
     "name": "stdout",
     "output_type": "stream",
     "text": [
      "['Crime', 'Action']\n"
     ]
    }
   ],
   "source": [
    "fill_genre(['Crime','Action'],1964)"
   ]
  },
  {
   "cell_type": "markdown",
   "metadata": {},
   "source": [
    "I cannot find the movie at index **2062**, so it will remain blank.\n",
    "\n",
    "At Index **2118** is the movie 'Duniyadari', it was a Comedy Drama film."
   ]
  },
  {
   "cell_type": "code",
   "execution_count": 32,
   "metadata": {},
   "outputs": [
    {
     "name": "stdout",
     "output_type": "stream",
     "text": [
      "['Comedy', 'Drama']\n"
     ]
    }
   ],
   "source": [
    "fill_genre(['Comedy','Drama'],2118)"
   ]
  },
  {
   "cell_type": "markdown",
   "metadata": {},
   "source": [
    "At Index **2213** is the movie 'Praying with Lior', it was a Documentary film."
   ]
  },
  {
   "cell_type": "code",
   "execution_count": 33,
   "metadata": {},
   "outputs": [
    {
     "name": "stdout",
     "output_type": "stream",
     "text": [
      "['Documentary']\n"
     ]
    }
   ],
   "source": [
    "fill_genre(['Documentary'],2213)"
   ]
  },
  {
   "cell_type": "markdown",
   "metadata": {},
   "source": [
    "At Index **2251** is the movie 'Teddy Bears' Picnic', it was a Comedy film."
   ]
  },
  {
   "cell_type": "code",
   "execution_count": 34,
   "metadata": {},
   "outputs": [
    {
     "name": "stdout",
     "output_type": "stream",
     "text": [
      "['Comedy']\n"
     ]
    }
   ],
   "source": [
    "fill_genre(['Comedy'],2251)"
   ]
  },
  {
   "cell_type": "markdown",
   "metadata": {},
   "source": [
    "At Index **2519** is the movie 'Glukhar v kino', it was a Comedy film."
   ]
  },
  {
   "cell_type": "code",
   "execution_count": 35,
   "metadata": {},
   "outputs": [
    {
     "name": "stdout",
     "output_type": "stream",
     "text": [
      "['Comedy']\n"
     ]
    }
   ],
   "source": [
    "fill_genre(['Comedy'],2519)"
   ]
  },
  {
   "cell_type": "markdown",
   "metadata": {},
   "source": [
    "At Index **3449** is the movie 'Lucky Lady', it was a Drama Comedy film.\n"
   ]
  },
  {
   "cell_type": "code",
   "execution_count": 36,
   "metadata": {},
   "outputs": [
    {
     "name": "stdout",
     "output_type": "stream",
     "text": [
      "['Drama', 'Comedy']\n"
     ]
    }
   ],
   "source": [
    "fill_genre(['Drama','Comedy'],3449)"
   ]
  },
  {
   "cell_type": "markdown",
   "metadata": {},
   "source": [
    "At Index **3485** is the movie 'Death of a Dynasty', it was a Comedy film."
   ]
  },
  {
   "cell_type": "code",
   "execution_count": 37,
   "metadata": {},
   "outputs": [
    {
     "name": "stdout",
     "output_type": "stream",
     "text": [
      "['Comedy']\n"
     ]
    }
   ],
   "source": [
    "fill_genre(['Comedy'],3485)"
   ]
  },
  {
   "cell_type": "markdown",
   "metadata": {},
   "source": [
    "At index **3564** is the movie 'Fahrenheit 9/11', it was a documentary"
   ]
  },
  {
   "cell_type": "code",
   "execution_count": 38,
   "metadata": {},
   "outputs": [
    {
     "name": "stdout",
     "output_type": "stream",
     "text": [
      "['Documentary']\n"
     ]
    }
   ],
   "source": [
    "fill_genre(['Documentary'],3564)"
   ]
  },
  {
   "cell_type": "markdown",
   "metadata": {},
   "source": [
    "At index **3817** is the movie 'Miesten välisiä keskusteluja', it was a Drama"
   ]
  },
  {
   "cell_type": "code",
   "execution_count": 39,
   "metadata": {},
   "outputs": [
    {
     "name": "stdout",
     "output_type": "stream",
     "text": [
      "['Drama']\n"
     ]
    }
   ],
   "source": [
    "fill_genre(['Drama'],3817)"
   ]
  },
  {
   "cell_type": "markdown",
   "metadata": {},
   "source": [
    "Check that only one NULL from indx **2062** remains:"
   ]
  },
  {
   "cell_type": "code",
   "execution_count": 40,
   "metadata": {},
   "outputs": [
    {
     "name": "stdout",
     "output_type": "stream",
     "text": [
      "id                                                                5063\n",
      "budget                                                               0\n",
      "genres                                                            NULL\n",
      "original_language                                                   ro\n",
      "popularity                                                     0.03856\n",
      "release_date                                                  10/21/05\n",
      "runtime                                                             95\n",
      "title                                                               15\n",
      "cast                 [{'cast_id': 1, 'character': 'Hilde', 'credit_...\n",
      "Name: 2062, dtype: object\n"
     ]
    }
   ],
   "source": [
    "for x in range (0,len(test)):\n",
    "    if test.loc[x,'genres'] == 'NULL':\n",
    "        print(test.loc[x,:])"
   ]
  },
  {
   "cell_type": "markdown",
   "metadata": {},
   "source": [
    "Lets give the movie at **2062** the mode genre"
   ]
  },
  {
   "cell_type": "code",
   "execution_count": 41,
   "metadata": {},
   "outputs": [],
   "source": [
    "#get string version of genres\n",
    "genre_strings = str(test.genres)"
   ]
  },
  {
   "cell_type": "code",
   "execution_count": 42,
   "metadata": {},
   "outputs": [],
   "source": [
    "test.genres = genre_strings"
   ]
  },
  {
   "cell_type": "code",
   "execution_count": 43,
   "metadata": {},
   "outputs": [],
   "source": [
    "mode = test.genres.mode()"
   ]
  },
  {
   "cell_type": "code",
   "execution_count": 44,
   "metadata": {},
   "outputs": [
    {
     "data": {
      "text/plain": [
       "0    0              [Adventure, Animation, Family, ...\n",
       "dtype: object"
      ]
     },
     "execution_count": 44,
     "metadata": {},
     "output_type": "execute_result"
    }
   ],
   "source": [
    "mode"
   ]
  },
  {
   "cell_type": "code",
   "execution_count": 45,
   "metadata": {},
   "outputs": [
    {
     "name": "stdout",
     "output_type": "stream",
     "text": [
      "['Adventure', 'Animation', 'Family']\n"
     ]
    }
   ],
   "source": [
    "fill_genre(['Adventure', 'Animation','Family'],2062)"
   ]
  },
  {
   "cell_type": "code",
   "execution_count": 46,
   "metadata": {},
   "outputs": [],
   "source": [
    "#check that no more NULL genres exist\n",
    "for x in range (0,len(test)):\n",
    "    if test.loc[x,'genres'] == 'NULL':\n",
    "        print(test.loc[x,:])"
   ]
  },
  {
   "cell_type": "code",
   "execution_count": 47,
   "metadata": {},
   "outputs": [
    {
     "data": {
      "text/plain": [
       "id                    0\n",
       "budget                0\n",
       "genres                0\n",
       "original_language     0\n",
       "popularity            0\n",
       "release_date          1\n",
       "runtime               4\n",
       "title                 3\n",
       "cast                 13\n",
       "dtype: int64"
      ]
     },
     "execution_count": 47,
     "metadata": {},
     "output_type": "execute_result"
    }
   ],
   "source": [
    "test.isnull().sum()"
   ]
  },
  {
   "cell_type": "code",
   "execution_count": 48,
   "metadata": {},
   "outputs": [
    {
     "data": {
      "text/plain": [
       "id                    0\n",
       "budget                0\n",
       "genres                0\n",
       "original_language     0\n",
       "popularity            0\n",
       "release_date          0\n",
       "runtime               2\n",
       "title                 0\n",
       "cast                 13\n",
       "revenue               0\n",
       "dtype: int64"
      ]
     },
     "execution_count": 48,
     "metadata": {},
     "output_type": "execute_result"
    }
   ],
   "source": [
    "train.isnull().sum()"
   ]
  },
  {
   "cell_type": "markdown",
   "metadata": {},
   "source": [
    "## 2.2 Cast\n",
    "Movies with missing Cast values will be replaced with **'NONE'**"
   ]
  },
  {
   "cell_type": "code",
   "execution_count": 49,
   "metadata": {},
   "outputs": [],
   "source": [
    "train.cast.fillna('NONE', inplace=True)"
   ]
  },
  {
   "cell_type": "code",
   "execution_count": 50,
   "metadata": {},
   "outputs": [],
   "source": [
    "test.cast.fillna('NONE', inplace=True)"
   ]
  },
  {
   "cell_type": "code",
   "execution_count": 51,
   "metadata": {},
   "outputs": [
    {
     "data": {
      "text/plain": [
       "id                   0\n",
       "budget               0\n",
       "genres               0\n",
       "original_language    0\n",
       "popularity           0\n",
       "release_date         0\n",
       "runtime              2\n",
       "title                0\n",
       "cast                 0\n",
       "revenue              0\n",
       "dtype: int64"
      ]
     },
     "execution_count": 51,
     "metadata": {},
     "output_type": "execute_result"
    }
   ],
   "source": [
    "train.isnull().sum()"
   ]
  },
  {
   "cell_type": "code",
   "execution_count": 52,
   "metadata": {},
   "outputs": [
    {
     "data": {
      "text/plain": [
       "id                   0\n",
       "budget               0\n",
       "genres               0\n",
       "original_language    0\n",
       "popularity           0\n",
       "release_date         1\n",
       "runtime              4\n",
       "title                3\n",
       "cast                 0\n",
       "dtype: int64"
      ]
     },
     "execution_count": 52,
     "metadata": {},
     "output_type": "execute_result"
    }
   ],
   "source": [
    "test.isnull().sum()"
   ]
  },
  {
   "cell_type": "markdown",
   "metadata": {},
   "source": [
    "## 2.3 runtime\n",
    "We will manually fill in the missing runtime values for test and train if we can."
   ]
  },
  {
   "cell_type": "code",
   "execution_count": 53,
   "metadata": {},
   "outputs": [
    {
     "data": {
      "text/html": [
       "<div>\n",
       "<style scoped>\n",
       "    .dataframe tbody tr th:only-of-type {\n",
       "        vertical-align: middle;\n",
       "    }\n",
       "\n",
       "    .dataframe tbody tr th {\n",
       "        vertical-align: top;\n",
       "    }\n",
       "\n",
       "    .dataframe thead th {\n",
       "        text-align: right;\n",
       "    }\n",
       "</style>\n",
       "<table border=\"1\" class=\"dataframe\">\n",
       "  <thead>\n",
       "    <tr style=\"text-align: right;\">\n",
       "      <th></th>\n",
       "      <th>id</th>\n",
       "      <th>budget</th>\n",
       "      <th>genres</th>\n",
       "      <th>original_language</th>\n",
       "      <th>popularity</th>\n",
       "      <th>release_date</th>\n",
       "      <th>runtime</th>\n",
       "      <th>title</th>\n",
       "      <th>cast</th>\n",
       "      <th>revenue</th>\n",
       "    </tr>\n",
       "  </thead>\n",
       "  <tbody>\n",
       "    <tr>\n",
       "      <th>1335</th>\n",
       "      <td>1336</td>\n",
       "      <td>6000000</td>\n",
       "      <td>[Drama]</td>\n",
       "      <td>ru</td>\n",
       "      <td>0.292296</td>\n",
       "      <td>10/29/07</td>\n",
       "      <td>NaN</td>\n",
       "      <td>Королёв</td>\n",
       "      <td>[{'cast_id': 3, 'character': '–°–µ—Ä–≥–µ–π –ö–...</td>\n",
       "      <td>31000</td>\n",
       "    </tr>\n",
       "    <tr>\n",
       "      <th>2302</th>\n",
       "      <td>2303</td>\n",
       "      <td>0</td>\n",
       "      <td>[Comedy]</td>\n",
       "      <td>de</td>\n",
       "      <td>0.002229</td>\n",
       "      <td>3/14/96</td>\n",
       "      <td>NaN</td>\n",
       "      <td>Happy Weekend</td>\n",
       "      <td>[{'cast_id': 0, 'character': 'Joachim Krippo',...</td>\n",
       "      <td>65335</td>\n",
       "    </tr>\n",
       "  </tbody>\n",
       "</table>\n",
       "</div>"
      ],
      "text/plain": [
       "        id   budget    genres original_language  popularity release_date  \\\n",
       "1335  1336  6000000   [Drama]                ru    0.292296     10/29/07   \n",
       "2302  2303        0  [Comedy]                de    0.002229      3/14/96   \n",
       "\n",
       "      runtime          title  \\\n",
       "1335      NaN        Королёв   \n",
       "2302      NaN  Happy Weekend   \n",
       "\n",
       "                                                   cast  revenue  \n",
       "1335  [{'cast_id': 3, 'character': '–°–µ—Ä–≥–µ–π –ö–...    31000  \n",
       "2302  [{'cast_id': 0, 'character': 'Joachim Krippo',...    65335  "
      ]
     },
     "execution_count": 53,
     "metadata": {},
     "output_type": "execute_result"
    }
   ],
   "source": [
    "train[train.runtime.isnull()]"
   ]
  },
  {
   "cell_type": "code",
   "execution_count": 54,
   "metadata": {},
   "outputs": [],
   "source": [
    "#information googled\n",
    "train.runtime[1335] = 130\n",
    "train.runtime[2302] = 90"
   ]
  },
  {
   "cell_type": "code",
   "execution_count": 55,
   "metadata": {},
   "outputs": [
    {
     "data": {
      "text/html": [
       "<div>\n",
       "<style scoped>\n",
       "    .dataframe tbody tr th:only-of-type {\n",
       "        vertical-align: middle;\n",
       "    }\n",
       "\n",
       "    .dataframe tbody tr th {\n",
       "        vertical-align: top;\n",
       "    }\n",
       "\n",
       "    .dataframe thead th {\n",
       "        text-align: right;\n",
       "    }\n",
       "</style>\n",
       "<table border=\"1\" class=\"dataframe\">\n",
       "  <thead>\n",
       "    <tr style=\"text-align: right;\">\n",
       "      <th></th>\n",
       "      <th>id</th>\n",
       "      <th>budget</th>\n",
       "      <th>genres</th>\n",
       "      <th>original_language</th>\n",
       "      <th>popularity</th>\n",
       "      <th>release_date</th>\n",
       "      <th>runtime</th>\n",
       "      <th>title</th>\n",
       "      <th>cast</th>\n",
       "    </tr>\n",
       "  </thead>\n",
       "  <tbody>\n",
       "    <tr>\n",
       "      <th>243</th>\n",
       "      <td>3244</td>\n",
       "      <td>0</td>\n",
       "      <td>0              [Adventure, Animation, Family, ...</td>\n",
       "      <td>es</td>\n",
       "      <td>0.000464</td>\n",
       "      <td>3/20/81</td>\n",
       "      <td>NaN</td>\n",
       "      <td>La caliente niña Julietta</td>\n",
       "      <td>[{'cast_id': 7, 'character': 'Julietta Santigo...</td>\n",
       "    </tr>\n",
       "    <tr>\n",
       "      <th>1489</th>\n",
       "      <td>4490</td>\n",
       "      <td>0</td>\n",
       "      <td>0              [Adventure, Animation, Family, ...</td>\n",
       "      <td>es</td>\n",
       "      <td>0.661399</td>\n",
       "      <td>6/6/14</td>\n",
       "      <td>NaN</td>\n",
       "      <td>Pancho, el perro millonario</td>\n",
       "      <td>[{'cast_id': 3, 'character': 'Alberto', 'credi...</td>\n",
       "    </tr>\n",
       "    <tr>\n",
       "      <th>1632</th>\n",
       "      <td>4633</td>\n",
       "      <td>0</td>\n",
       "      <td>0              [Adventure, Animation, Family, ...</td>\n",
       "      <td>es</td>\n",
       "      <td>0.281500</td>\n",
       "      <td>11/3/78</td>\n",
       "      <td>NaN</td>\n",
       "      <td>Nunca en horas de clase</td>\n",
       "      <td>[{'cast_id': 6, 'character': 'Susy', 'credit_i...</td>\n",
       "    </tr>\n",
       "    <tr>\n",
       "      <th>3817</th>\n",
       "      <td>6818</td>\n",
       "      <td>0</td>\n",
       "      <td>0              [Adventure, Animation, Family, ...</td>\n",
       "      <td>fi</td>\n",
       "      <td>0.011427</td>\n",
       "      <td>1/4/13</td>\n",
       "      <td>NaN</td>\n",
       "      <td>Miesten välisiä keskusteluja</td>\n",
       "      <td>[{'cast_id': 0, 'character': 'Kari Mairisaari'...</td>\n",
       "    </tr>\n",
       "  </tbody>\n",
       "</table>\n",
       "</div>"
      ],
      "text/plain": [
       "        id  budget                                             genres  \\\n",
       "243   3244       0  0              [Adventure, Animation, Family, ...   \n",
       "1489  4490       0  0              [Adventure, Animation, Family, ...   \n",
       "1632  4633       0  0              [Adventure, Animation, Family, ...   \n",
       "3817  6818       0  0              [Adventure, Animation, Family, ...   \n",
       "\n",
       "     original_language  popularity release_date  runtime  \\\n",
       "243                 es    0.000464      3/20/81      NaN   \n",
       "1489                es    0.661399       6/6/14      NaN   \n",
       "1632                es    0.281500      11/3/78      NaN   \n",
       "3817                fi    0.011427       1/4/13      NaN   \n",
       "\n",
       "                             title  \\\n",
       "243      La caliente niña Julietta   \n",
       "1489   Pancho, el perro millonario   \n",
       "1632       Nunca en horas de clase   \n",
       "3817  Miesten välisiä keskusteluja   \n",
       "\n",
       "                                                   cast  \n",
       "243   [{'cast_id': 7, 'character': 'Julietta Santigo...  \n",
       "1489  [{'cast_id': 3, 'character': 'Alberto', 'credi...  \n",
       "1632  [{'cast_id': 6, 'character': 'Susy', 'credit_i...  \n",
       "3817  [{'cast_id': 0, 'character': 'Kari Mairisaari'...  "
      ]
     },
     "execution_count": 55,
     "metadata": {},
     "output_type": "execute_result"
    }
   ],
   "source": [
    "test[test.runtime.isnull()]"
   ]
  },
  {
   "cell_type": "code",
   "execution_count": 56,
   "metadata": {},
   "outputs": [],
   "source": [
    "#information googled\n",
    "test.runtime[243] = 93\n",
    "test.runtime[1489] = 91\n",
    "test.runtime[1632] = 100\n",
    "test.runtime[3817] = 116"
   ]
  },
  {
   "cell_type": "code",
   "execution_count": 57,
   "metadata": {},
   "outputs": [
    {
     "data": {
      "text/plain": [
       "id                   0\n",
       "budget               0\n",
       "genres               0\n",
       "original_language    0\n",
       "popularity           0\n",
       "release_date         1\n",
       "runtime              0\n",
       "title                3\n",
       "cast                 0\n",
       "dtype: int64"
      ]
     },
     "execution_count": 57,
     "metadata": {},
     "output_type": "execute_result"
    }
   ],
   "source": [
    "test.isnull().sum()"
   ]
  },
  {
   "cell_type": "code",
   "execution_count": 58,
   "metadata": {},
   "outputs": [
    {
     "data": {
      "text/plain": [
       "id                   0\n",
       "budget               0\n",
       "genres               0\n",
       "original_language    0\n",
       "popularity           0\n",
       "release_date         0\n",
       "runtime              0\n",
       "title                0\n",
       "cast                 0\n",
       "revenue              0\n",
       "dtype: int64"
      ]
     },
     "execution_count": 58,
     "metadata": {},
     "output_type": "execute_result"
    }
   ],
   "source": [
    "train.isnull().sum()"
   ]
  },
  {
   "cell_type": "markdown",
   "metadata": {},
   "source": [
    "## 2.3 Release Date\n",
    "Theres just one missing release date from the test dataset which we can fill manually."
   ]
  },
  {
   "cell_type": "code",
   "execution_count": 59,
   "metadata": {},
   "outputs": [
    {
     "data": {
      "text/html": [
       "<div>\n",
       "<style scoped>\n",
       "    .dataframe tbody tr th:only-of-type {\n",
       "        vertical-align: middle;\n",
       "    }\n",
       "\n",
       "    .dataframe tbody tr th {\n",
       "        vertical-align: top;\n",
       "    }\n",
       "\n",
       "    .dataframe thead th {\n",
       "        text-align: right;\n",
       "    }\n",
       "</style>\n",
       "<table border=\"1\" class=\"dataframe\">\n",
       "  <thead>\n",
       "    <tr style=\"text-align: right;\">\n",
       "      <th></th>\n",
       "      <th>id</th>\n",
       "      <th>budget</th>\n",
       "      <th>genres</th>\n",
       "      <th>original_language</th>\n",
       "      <th>popularity</th>\n",
       "      <th>release_date</th>\n",
       "      <th>runtime</th>\n",
       "      <th>title</th>\n",
       "      <th>cast</th>\n",
       "    </tr>\n",
       "  </thead>\n",
       "  <tbody>\n",
       "    <tr>\n",
       "      <th>828</th>\n",
       "      <td>3829</td>\n",
       "      <td>0</td>\n",
       "      <td>0              [Adventure, Animation, Family, ...</td>\n",
       "      <td>en</td>\n",
       "      <td>0.009057</td>\n",
       "      <td>NaN</td>\n",
       "      <td>90.0</td>\n",
       "      <td>Jails, Hospitals &amp; Hip-Hop</td>\n",
       "      <td>[]</td>\n",
       "    </tr>\n",
       "  </tbody>\n",
       "</table>\n",
       "</div>"
      ],
      "text/plain": [
       "       id  budget                                             genres  \\\n",
       "828  3829       0  0              [Adventure, Animation, Family, ...   \n",
       "\n",
       "    original_language  popularity release_date  runtime  \\\n",
       "828                en    0.009057          NaN     90.0   \n",
       "\n",
       "                          title cast  \n",
       "828  Jails, Hospitals & Hip-Hop   []  "
      ]
     },
     "execution_count": 59,
     "metadata": {},
     "output_type": "execute_result"
    }
   ],
   "source": [
    "test[test.release_date.isnull()]"
   ]
  },
  {
   "cell_type": "code",
   "execution_count": 60,
   "metadata": {},
   "outputs": [],
   "source": [
    "#information googled\n",
    "test.release_date[828] = '05/01/00'"
   ]
  },
  {
   "cell_type": "code",
   "execution_count": 61,
   "metadata": {},
   "outputs": [
    {
     "data": {
      "text/plain": [
       "id                   0\n",
       "budget               0\n",
       "genres               0\n",
       "original_language    0\n",
       "popularity           0\n",
       "release_date         0\n",
       "runtime              0\n",
       "title                0\n",
       "cast                 0\n",
       "revenue              0\n",
       "dtype: int64"
      ]
     },
     "execution_count": 61,
     "metadata": {},
     "output_type": "execute_result"
    }
   ],
   "source": [
    "train.isnull().sum()"
   ]
  },
  {
   "cell_type": "code",
   "execution_count": 62,
   "metadata": {},
   "outputs": [
    {
     "data": {
      "text/plain": [
       "id                   0\n",
       "budget               0\n",
       "genres               0\n",
       "original_language    0\n",
       "popularity           0\n",
       "release_date         0\n",
       "runtime              0\n",
       "title                3\n",
       "cast                 0\n",
       "dtype: int64"
      ]
     },
     "execution_count": 62,
     "metadata": {},
     "output_type": "execute_result"
    }
   ],
   "source": [
    "test.isnull().sum()"
   ]
  },
  {
   "cell_type": "markdown",
   "metadata": {},
   "source": [
    "## 2.4 Title\n",
    "We can drop this column because we only needed it to google missing information, it wont help with modelling."
   ]
  },
  {
   "cell_type": "code",
   "execution_count": 63,
   "metadata": {},
   "outputs": [],
   "source": [
    "train.drop('title', axis=1, inplace = True)\n",
    "test.drop('title', axis=1, inplace = True)"
   ]
  },
  {
   "cell_type": "code",
   "execution_count": 64,
   "metadata": {},
   "outputs": [
    {
     "data": {
      "text/plain": [
       "id                   0\n",
       "budget               0\n",
       "genres               0\n",
       "original_language    0\n",
       "popularity           0\n",
       "release_date         0\n",
       "runtime              0\n",
       "cast                 0\n",
       "dtype: int64"
      ]
     },
     "execution_count": 64,
     "metadata": {},
     "output_type": "execute_result"
    }
   ],
   "source": [
    "test.isnull().sum()"
   ]
  },
  {
   "cell_type": "code",
   "execution_count": 65,
   "metadata": {},
   "outputs": [
    {
     "data": {
      "text/plain": [
       "id                   0\n",
       "budget               0\n",
       "genres               0\n",
       "original_language    0\n",
       "popularity           0\n",
       "release_date         0\n",
       "runtime              0\n",
       "cast                 0\n",
       "revenue              0\n",
       "dtype: int64"
      ]
     },
     "execution_count": 65,
     "metadata": {},
     "output_type": "execute_result"
    }
   ],
   "source": [
    "train.isnull().sum()"
   ]
  },
  {
   "cell_type": "markdown",
   "metadata": {},
   "source": [
    "# 3. Feature Engineering\n",
    "## 3.1 Oringinal Language \n",
    "Since a big moajority (86% of the data according to kaggle) has english as the orignal language, I will breakdown the original language to either ENGLISH or FOREIGN and then get dummy variables for the two. "
   ]
  },
  {
   "cell_type": "code",
   "execution_count": 66,
   "metadata": {},
   "outputs": [
    {
     "data": {
      "text/html": [
       "<div>\n",
       "<style scoped>\n",
       "    .dataframe tbody tr th:only-of-type {\n",
       "        vertical-align: middle;\n",
       "    }\n",
       "\n",
       "    .dataframe tbody tr th {\n",
       "        vertical-align: top;\n",
       "    }\n",
       "\n",
       "    .dataframe thead th {\n",
       "        text-align: right;\n",
       "    }\n",
       "</style>\n",
       "<table border=\"1\" class=\"dataframe\">\n",
       "  <thead>\n",
       "    <tr style=\"text-align: right;\">\n",
       "      <th></th>\n",
       "      <th>id</th>\n",
       "      <th>budget</th>\n",
       "      <th>genres</th>\n",
       "      <th>original_language</th>\n",
       "      <th>popularity</th>\n",
       "      <th>release_date</th>\n",
       "      <th>runtime</th>\n",
       "      <th>cast</th>\n",
       "    </tr>\n",
       "  </thead>\n",
       "  <tbody>\n",
       "    <tr>\n",
       "      <th>0</th>\n",
       "      <td>3001</td>\n",
       "      <td>0</td>\n",
       "      <td>0              [Adventure, Animation, Family, ...</td>\n",
       "      <td>ja</td>\n",
       "      <td>3.851534</td>\n",
       "      <td>7/14/07</td>\n",
       "      <td>90.0</td>\n",
       "      <td>[{'cast_id': 3, 'character': 'Tonio', 'credit_...</td>\n",
       "    </tr>\n",
       "    <tr>\n",
       "      <th>1</th>\n",
       "      <td>3002</td>\n",
       "      <td>88000</td>\n",
       "      <td>0              [Adventure, Animation, Family, ...</td>\n",
       "      <td>en</td>\n",
       "      <td>3.559789</td>\n",
       "      <td>5/19/58</td>\n",
       "      <td>65.0</td>\n",
       "      <td>[{'cast_id': 2, 'character': 'Nancy Fowler Arc...</td>\n",
       "    </tr>\n",
       "    <tr>\n",
       "      <th>2</th>\n",
       "      <td>3003</td>\n",
       "      <td>0</td>\n",
       "      <td>0              [Adventure, Animation, Family, ...</td>\n",
       "      <td>en</td>\n",
       "      <td>8.085194</td>\n",
       "      <td>5/23/97</td>\n",
       "      <td>100.0</td>\n",
       "      <td>[{'cast_id': 11, 'character': 'Maggie', 'credi...</td>\n",
       "    </tr>\n",
       "    <tr>\n",
       "      <th>3</th>\n",
       "      <td>3004</td>\n",
       "      <td>6800000</td>\n",
       "      <td>0              [Adventure, Animation, Family, ...</td>\n",
       "      <td>fr</td>\n",
       "      <td>8.596012</td>\n",
       "      <td>9/4/10</td>\n",
       "      <td>130.0</td>\n",
       "      <td>[{'cast_id': 6, 'character': 'Nawal', 'credit_...</td>\n",
       "    </tr>\n",
       "    <tr>\n",
       "      <th>4</th>\n",
       "      <td>3005</td>\n",
       "      <td>2000000</td>\n",
       "      <td>0              [Adventure, Animation, Family, ...</td>\n",
       "      <td>en</td>\n",
       "      <td>3.217680</td>\n",
       "      <td>2/11/05</td>\n",
       "      <td>92.0</td>\n",
       "      <td>[{'cast_id': 1, 'character': 'Narrator (voice)...</td>\n",
       "    </tr>\n",
       "  </tbody>\n",
       "</table>\n",
       "</div>"
      ],
      "text/plain": [
       "     id   budget                                             genres  \\\n",
       "0  3001        0  0              [Adventure, Animation, Family, ...   \n",
       "1  3002    88000  0              [Adventure, Animation, Family, ...   \n",
       "2  3003        0  0              [Adventure, Animation, Family, ...   \n",
       "3  3004  6800000  0              [Adventure, Animation, Family, ...   \n",
       "4  3005  2000000  0              [Adventure, Animation, Family, ...   \n",
       "\n",
       "  original_language  popularity release_date  runtime  \\\n",
       "0                ja    3.851534      7/14/07     90.0   \n",
       "1                en    3.559789      5/19/58     65.0   \n",
       "2                en    8.085194      5/23/97    100.0   \n",
       "3                fr    8.596012       9/4/10    130.0   \n",
       "4                en    3.217680      2/11/05     92.0   \n",
       "\n",
       "                                                cast  \n",
       "0  [{'cast_id': 3, 'character': 'Tonio', 'credit_...  \n",
       "1  [{'cast_id': 2, 'character': 'Nancy Fowler Arc...  \n",
       "2  [{'cast_id': 11, 'character': 'Maggie', 'credi...  \n",
       "3  [{'cast_id': 6, 'character': 'Nawal', 'credit_...  \n",
       "4  [{'cast_id': 1, 'character': 'Narrator (voice)...  "
      ]
     },
     "execution_count": 66,
     "metadata": {},
     "output_type": "execute_result"
    }
   ],
   "source": [
    "test.head()"
   ]
  },
  {
   "cell_type": "code",
   "execution_count": 67,
   "metadata": {},
   "outputs": [
    {
     "data": {
      "text/html": [
       "<div>\n",
       "<style scoped>\n",
       "    .dataframe tbody tr th:only-of-type {\n",
       "        vertical-align: middle;\n",
       "    }\n",
       "\n",
       "    .dataframe tbody tr th {\n",
       "        vertical-align: top;\n",
       "    }\n",
       "\n",
       "    .dataframe thead th {\n",
       "        text-align: right;\n",
       "    }\n",
       "</style>\n",
       "<table border=\"1\" class=\"dataframe\">\n",
       "  <thead>\n",
       "    <tr style=\"text-align: right;\">\n",
       "      <th></th>\n",
       "      <th>id</th>\n",
       "      <th>budget</th>\n",
       "      <th>genres</th>\n",
       "      <th>original_language</th>\n",
       "      <th>popularity</th>\n",
       "      <th>release_date</th>\n",
       "      <th>runtime</th>\n",
       "      <th>cast</th>\n",
       "      <th>revenue</th>\n",
       "    </tr>\n",
       "  </thead>\n",
       "  <tbody>\n",
       "    <tr>\n",
       "      <th>0</th>\n",
       "      <td>1</td>\n",
       "      <td>14000000</td>\n",
       "      <td>[Comedy]</td>\n",
       "      <td>en</td>\n",
       "      <td>6.575393</td>\n",
       "      <td>2/20/15</td>\n",
       "      <td>93.0</td>\n",
       "      <td>[{'cast_id': 4, 'character': 'Lou', 'credit_id...</td>\n",
       "      <td>12314651</td>\n",
       "    </tr>\n",
       "    <tr>\n",
       "      <th>1</th>\n",
       "      <td>2</td>\n",
       "      <td>40000000</td>\n",
       "      <td>[Comedy, Drama, Family, Romance]</td>\n",
       "      <td>en</td>\n",
       "      <td>8.248895</td>\n",
       "      <td>8/6/04</td>\n",
       "      <td>113.0</td>\n",
       "      <td>[{'cast_id': 1, 'character': 'Mia Thermopolis'...</td>\n",
       "      <td>95149435</td>\n",
       "    </tr>\n",
       "    <tr>\n",
       "      <th>2</th>\n",
       "      <td>3</td>\n",
       "      <td>3300000</td>\n",
       "      <td>[Drama]</td>\n",
       "      <td>en</td>\n",
       "      <td>64.299990</td>\n",
       "      <td>10/10/14</td>\n",
       "      <td>105.0</td>\n",
       "      <td>[{'cast_id': 5, 'character': 'Andrew Neimann',...</td>\n",
       "      <td>13092000</td>\n",
       "    </tr>\n",
       "    <tr>\n",
       "      <th>3</th>\n",
       "      <td>4</td>\n",
       "      <td>1200000</td>\n",
       "      <td>[Thriller, Drama]</td>\n",
       "      <td>hi</td>\n",
       "      <td>3.174936</td>\n",
       "      <td>3/9/12</td>\n",
       "      <td>122.0</td>\n",
       "      <td>[{'cast_id': 1, 'character': 'Vidya Bagchi', '...</td>\n",
       "      <td>16000000</td>\n",
       "    </tr>\n",
       "    <tr>\n",
       "      <th>4</th>\n",
       "      <td>5</td>\n",
       "      <td>0</td>\n",
       "      <td>[Action, Thriller]</td>\n",
       "      <td>ko</td>\n",
       "      <td>1.148070</td>\n",
       "      <td>2/5/09</td>\n",
       "      <td>118.0</td>\n",
       "      <td>[{'cast_id': 3, 'character': 'Chun-soo', 'cred...</td>\n",
       "      <td>3923970</td>\n",
       "    </tr>\n",
       "  </tbody>\n",
       "</table>\n",
       "</div>"
      ],
      "text/plain": [
       "   id    budget                            genres original_language  \\\n",
       "0   1  14000000                          [Comedy]                en   \n",
       "1   2  40000000  [Comedy, Drama, Family, Romance]                en   \n",
       "2   3   3300000                           [Drama]                en   \n",
       "3   4   1200000                 [Thriller, Drama]                hi   \n",
       "4   5         0                [Action, Thriller]                ko   \n",
       "\n",
       "   popularity release_date  runtime  \\\n",
       "0    6.575393      2/20/15     93.0   \n",
       "1    8.248895       8/6/04    113.0   \n",
       "2   64.299990     10/10/14    105.0   \n",
       "3    3.174936       3/9/12    122.0   \n",
       "4    1.148070       2/5/09    118.0   \n",
       "\n",
       "                                                cast   revenue  \n",
       "0  [{'cast_id': 4, 'character': 'Lou', 'credit_id...  12314651  \n",
       "1  [{'cast_id': 1, 'character': 'Mia Thermopolis'...  95149435  \n",
       "2  [{'cast_id': 5, 'character': 'Andrew Neimann',...  13092000  \n",
       "3  [{'cast_id': 1, 'character': 'Vidya Bagchi', '...  16000000  \n",
       "4  [{'cast_id': 3, 'character': 'Chun-soo', 'cred...   3923970  "
      ]
     },
     "execution_count": 67,
     "metadata": {},
     "output_type": "execute_result"
    }
   ],
   "source": [
    "train.head()"
   ]
  },
  {
   "cell_type": "code",
   "execution_count": 88,
   "metadata": {},
   "outputs": [],
   "source": [
    "#replace all foreign languages with FOREIGN\n",
    "for x in range (0,len(train)):\n",
    "    if x in list(train.index):\n",
    "        if train.loc[x,'original_language'] != 'en':\n",
    "            train.loc[x,'original_language'] = 'FOREIGN'\n",
    "    "
   ]
  },
  {
   "cell_type": "code",
   "execution_count": 97,
   "metadata": {
    "scrolled": true
   },
   "outputs": [],
   "source": [
    "for x in range (0,len(test)):\n",
    "        if test.loc[x,'original_language'] != 'en':\n",
    "            test.loc[x,'original_language'] = 'FOREIGN'"
   ]
  },
  {
   "cell_type": "code",
   "execution_count": 101,
   "metadata": {},
   "outputs": [],
   "source": [
    "train = pd.get_dummies(train, columns=['original_language'])"
   ]
  },
  {
   "cell_type": "code",
   "execution_count": 103,
   "metadata": {},
   "outputs": [],
   "source": [
    "test = pd.get_dummies(test, columns=['original_language'])"
   ]
  },
  {
   "cell_type": "code",
   "execution_count": 107,
   "metadata": {},
   "outputs": [],
   "source": [
    "train.drop(['original_language'],axis = 1)\n",
    "test.drop(['original_language'],axis = 1)"
   ]
  },
  {
   "cell_type": "code",
   "execution_count": 109,
   "metadata": {},
   "outputs": [
    {
     "data": {
      "text/html": [
       "<div>\n",
       "<style scoped>\n",
       "    .dataframe tbody tr th:only-of-type {\n",
       "        vertical-align: middle;\n",
       "    }\n",
       "\n",
       "    .dataframe tbody tr th {\n",
       "        vertical-align: top;\n",
       "    }\n",
       "\n",
       "    .dataframe thead th {\n",
       "        text-align: right;\n",
       "    }\n",
       "</style>\n",
       "<table border=\"1\" class=\"dataframe\">\n",
       "  <thead>\n",
       "    <tr style=\"text-align: right;\">\n",
       "      <th></th>\n",
       "      <th>id</th>\n",
       "      <th>budget</th>\n",
       "      <th>genres</th>\n",
       "      <th>popularity</th>\n",
       "      <th>release_date</th>\n",
       "      <th>runtime</th>\n",
       "      <th>cast</th>\n",
       "      <th>original_language_FOREIGN</th>\n",
       "      <th>original_language_en</th>\n",
       "    </tr>\n",
       "  </thead>\n",
       "  <tbody>\n",
       "    <tr>\n",
       "      <th>0</th>\n",
       "      <td>3001</td>\n",
       "      <td>0</td>\n",
       "      <td>0              [Adventure, Animation, Family, ...</td>\n",
       "      <td>3.851534</td>\n",
       "      <td>7/14/07</td>\n",
       "      <td>90.0</td>\n",
       "      <td>[{'cast_id': 3, 'character': 'Tonio', 'credit_...</td>\n",
       "      <td>1</td>\n",
       "      <td>0</td>\n",
       "    </tr>\n",
       "    <tr>\n",
       "      <th>1</th>\n",
       "      <td>3002</td>\n",
       "      <td>88000</td>\n",
       "      <td>0              [Adventure, Animation, Family, ...</td>\n",
       "      <td>3.559789</td>\n",
       "      <td>5/19/58</td>\n",
       "      <td>65.0</td>\n",
       "      <td>[{'cast_id': 2, 'character': 'Nancy Fowler Arc...</td>\n",
       "      <td>0</td>\n",
       "      <td>1</td>\n",
       "    </tr>\n",
       "    <tr>\n",
       "      <th>2</th>\n",
       "      <td>3003</td>\n",
       "      <td>0</td>\n",
       "      <td>0              [Adventure, Animation, Family, ...</td>\n",
       "      <td>8.085194</td>\n",
       "      <td>5/23/97</td>\n",
       "      <td>100.0</td>\n",
       "      <td>[{'cast_id': 11, 'character': 'Maggie', 'credi...</td>\n",
       "      <td>0</td>\n",
       "      <td>1</td>\n",
       "    </tr>\n",
       "  </tbody>\n",
       "</table>\n",
       "</div>"
      ],
      "text/plain": [
       "     id  budget                                             genres  \\\n",
       "0  3001       0  0              [Adventure, Animation, Family, ...   \n",
       "1  3002   88000  0              [Adventure, Animation, Family, ...   \n",
       "2  3003       0  0              [Adventure, Animation, Family, ...   \n",
       "\n",
       "   popularity release_date  runtime  \\\n",
       "0    3.851534      7/14/07     90.0   \n",
       "1    3.559789      5/19/58     65.0   \n",
       "2    8.085194      5/23/97    100.0   \n",
       "\n",
       "                                                cast  \\\n",
       "0  [{'cast_id': 3, 'character': 'Tonio', 'credit_...   \n",
       "1  [{'cast_id': 2, 'character': 'Nancy Fowler Arc...   \n",
       "2  [{'cast_id': 11, 'character': 'Maggie', 'credi...   \n",
       "\n",
       "   original_language_FOREIGN  original_language_en  \n",
       "0                          1                     0  \n",
       "1                          0                     1  \n",
       "2                          0                     1  "
      ]
     },
     "execution_count": 109,
     "metadata": {},
     "output_type": "execute_result"
    }
   ],
   "source": [
    "test.head(3)"
   ]
  },
  {
   "cell_type": "code",
   "execution_count": 110,
   "metadata": {},
   "outputs": [
    {
     "data": {
      "text/html": [
       "<div>\n",
       "<style scoped>\n",
       "    .dataframe tbody tr th:only-of-type {\n",
       "        vertical-align: middle;\n",
       "    }\n",
       "\n",
       "    .dataframe tbody tr th {\n",
       "        vertical-align: top;\n",
       "    }\n",
       "\n",
       "    .dataframe thead th {\n",
       "        text-align: right;\n",
       "    }\n",
       "</style>\n",
       "<table border=\"1\" class=\"dataframe\">\n",
       "  <thead>\n",
       "    <tr style=\"text-align: right;\">\n",
       "      <th></th>\n",
       "      <th>id</th>\n",
       "      <th>budget</th>\n",
       "      <th>genres</th>\n",
       "      <th>popularity</th>\n",
       "      <th>release_date</th>\n",
       "      <th>runtime</th>\n",
       "      <th>cast</th>\n",
       "      <th>revenue</th>\n",
       "      <th>original_language_FOREIGN</th>\n",
       "      <th>original_language_en</th>\n",
       "    </tr>\n",
       "  </thead>\n",
       "  <tbody>\n",
       "    <tr>\n",
       "      <th>0</th>\n",
       "      <td>1</td>\n",
       "      <td>14000000</td>\n",
       "      <td>[Comedy]</td>\n",
       "      <td>6.575393</td>\n",
       "      <td>2/20/15</td>\n",
       "      <td>93.0</td>\n",
       "      <td>[{'cast_id': 4, 'character': 'Lou', 'credit_id...</td>\n",
       "      <td>12314651</td>\n",
       "      <td>0</td>\n",
       "      <td>1</td>\n",
       "    </tr>\n",
       "    <tr>\n",
       "      <th>1</th>\n",
       "      <td>2</td>\n",
       "      <td>40000000</td>\n",
       "      <td>[Comedy, Drama, Family, Romance]</td>\n",
       "      <td>8.248895</td>\n",
       "      <td>8/6/04</td>\n",
       "      <td>113.0</td>\n",
       "      <td>[{'cast_id': 1, 'character': 'Mia Thermopolis'...</td>\n",
       "      <td>95149435</td>\n",
       "      <td>0</td>\n",
       "      <td>1</td>\n",
       "    </tr>\n",
       "    <tr>\n",
       "      <th>2</th>\n",
       "      <td>3</td>\n",
       "      <td>3300000</td>\n",
       "      <td>[Drama]</td>\n",
       "      <td>64.299990</td>\n",
       "      <td>10/10/14</td>\n",
       "      <td>105.0</td>\n",
       "      <td>[{'cast_id': 5, 'character': 'Andrew Neimann',...</td>\n",
       "      <td>13092000</td>\n",
       "      <td>0</td>\n",
       "      <td>1</td>\n",
       "    </tr>\n",
       "  </tbody>\n",
       "</table>\n",
       "</div>"
      ],
      "text/plain": [
       "   id    budget                            genres  popularity release_date  \\\n",
       "0   1  14000000                          [Comedy]    6.575393      2/20/15   \n",
       "1   2  40000000  [Comedy, Drama, Family, Romance]    8.248895       8/6/04   \n",
       "2   3   3300000                           [Drama]   64.299990     10/10/14   \n",
       "\n",
       "   runtime                                               cast   revenue  \\\n",
       "0     93.0  [{'cast_id': 4, 'character': 'Lou', 'credit_id...  12314651   \n",
       "1    113.0  [{'cast_id': 1, 'character': 'Mia Thermopolis'...  95149435   \n",
       "2    105.0  [{'cast_id': 5, 'character': 'Andrew Neimann',...  13092000   \n",
       "\n",
       "   original_language_FOREIGN  original_language_en  \n",
       "0                          0                     1  \n",
       "1                          0                     1  \n",
       "2                          0                     1  "
      ]
     },
     "execution_count": 110,
     "metadata": {},
     "output_type": "execute_result"
    }
   ],
   "source": [
    "train.head(3)"
   ]
  },
  {
   "cell_type": "markdown",
   "metadata": {},
   "source": [
    "## 3.2 Release Date\n",
    "I will create two columns from the release date - one for year released and one for month released. I will then derive the northern hempisphere season (winter, summer, autumn or spring) from the months."
   ]
  },
  {
   "cell_type": "code",
   "execution_count": 120,
   "metadata": {},
   "outputs": [],
   "source": [
    "dates = list(train.release_date)"
   ]
  },
  {
   "cell_type": "code",
   "execution_count": 126,
   "metadata": {},
   "outputs": [],
   "source": [
    "#extract years\n",
    "years = list()\n",
    "for date in dates:\n",
    "    years.append(re.findall('..$',date))"
   ]
  },
  {
   "cell_type": "code",
   "execution_count": 128,
   "metadata": {},
   "outputs": [],
   "source": [
    "#add years to train df\n",
    "train['years']=years"
   ]
  },
  {
   "cell_type": "code",
   "execution_count": 129,
   "metadata": {},
   "outputs": [
    {
     "data": {
      "text/html": [
       "<div>\n",
       "<style scoped>\n",
       "    .dataframe tbody tr th:only-of-type {\n",
       "        vertical-align: middle;\n",
       "    }\n",
       "\n",
       "    .dataframe tbody tr th {\n",
       "        vertical-align: top;\n",
       "    }\n",
       "\n",
       "    .dataframe thead th {\n",
       "        text-align: right;\n",
       "    }\n",
       "</style>\n",
       "<table border=\"1\" class=\"dataframe\">\n",
       "  <thead>\n",
       "    <tr style=\"text-align: right;\">\n",
       "      <th></th>\n",
       "      <th>id</th>\n",
       "      <th>budget</th>\n",
       "      <th>genres</th>\n",
       "      <th>popularity</th>\n",
       "      <th>release_date</th>\n",
       "      <th>runtime</th>\n",
       "      <th>cast</th>\n",
       "      <th>revenue</th>\n",
       "      <th>original_language_FOREIGN</th>\n",
       "      <th>original_language_en</th>\n",
       "      <th>years</th>\n",
       "    </tr>\n",
       "  </thead>\n",
       "  <tbody>\n",
       "    <tr>\n",
       "      <th>0</th>\n",
       "      <td>1</td>\n",
       "      <td>14000000</td>\n",
       "      <td>[Comedy]</td>\n",
       "      <td>6.575393</td>\n",
       "      <td>2/20/15</td>\n",
       "      <td>93.0</td>\n",
       "      <td>[{'cast_id': 4, 'character': 'Lou', 'credit_id...</td>\n",
       "      <td>12314651</td>\n",
       "      <td>0</td>\n",
       "      <td>1</td>\n",
       "      <td>[15]</td>\n",
       "    </tr>\n",
       "    <tr>\n",
       "      <th>1</th>\n",
       "      <td>2</td>\n",
       "      <td>40000000</td>\n",
       "      <td>[Comedy, Drama, Family, Romance]</td>\n",
       "      <td>8.248895</td>\n",
       "      <td>8/6/04</td>\n",
       "      <td>113.0</td>\n",
       "      <td>[{'cast_id': 1, 'character': 'Mia Thermopolis'...</td>\n",
       "      <td>95149435</td>\n",
       "      <td>0</td>\n",
       "      <td>1</td>\n",
       "      <td>[04]</td>\n",
       "    </tr>\n",
       "    <tr>\n",
       "      <th>2</th>\n",
       "      <td>3</td>\n",
       "      <td>3300000</td>\n",
       "      <td>[Drama]</td>\n",
       "      <td>64.299990</td>\n",
       "      <td>10/10/14</td>\n",
       "      <td>105.0</td>\n",
       "      <td>[{'cast_id': 5, 'character': 'Andrew Neimann',...</td>\n",
       "      <td>13092000</td>\n",
       "      <td>0</td>\n",
       "      <td>1</td>\n",
       "      <td>[14]</td>\n",
       "    </tr>\n",
       "    <tr>\n",
       "      <th>3</th>\n",
       "      <td>4</td>\n",
       "      <td>1200000</td>\n",
       "      <td>[Thriller, Drama]</td>\n",
       "      <td>3.174936</td>\n",
       "      <td>3/9/12</td>\n",
       "      <td>122.0</td>\n",
       "      <td>[{'cast_id': 1, 'character': 'Vidya Bagchi', '...</td>\n",
       "      <td>16000000</td>\n",
       "      <td>1</td>\n",
       "      <td>0</td>\n",
       "      <td>[12]</td>\n",
       "    </tr>\n",
       "    <tr>\n",
       "      <th>4</th>\n",
       "      <td>5</td>\n",
       "      <td>0</td>\n",
       "      <td>[Action, Thriller]</td>\n",
       "      <td>1.148070</td>\n",
       "      <td>2/5/09</td>\n",
       "      <td>118.0</td>\n",
       "      <td>[{'cast_id': 3, 'character': 'Chun-soo', 'cred...</td>\n",
       "      <td>3923970</td>\n",
       "      <td>1</td>\n",
       "      <td>0</td>\n",
       "      <td>[09]</td>\n",
       "    </tr>\n",
       "  </tbody>\n",
       "</table>\n",
       "</div>"
      ],
      "text/plain": [
       "   id    budget                            genres  popularity release_date  \\\n",
       "0   1  14000000                          [Comedy]    6.575393      2/20/15   \n",
       "1   2  40000000  [Comedy, Drama, Family, Romance]    8.248895       8/6/04   \n",
       "2   3   3300000                           [Drama]   64.299990     10/10/14   \n",
       "3   4   1200000                 [Thriller, Drama]    3.174936       3/9/12   \n",
       "4   5         0                [Action, Thriller]    1.148070       2/5/09   \n",
       "\n",
       "   runtime                                               cast   revenue  \\\n",
       "0     93.0  [{'cast_id': 4, 'character': 'Lou', 'credit_id...  12314651   \n",
       "1    113.0  [{'cast_id': 1, 'character': 'Mia Thermopolis'...  95149435   \n",
       "2    105.0  [{'cast_id': 5, 'character': 'Andrew Neimann',...  13092000   \n",
       "3    122.0  [{'cast_id': 1, 'character': 'Vidya Bagchi', '...  16000000   \n",
       "4    118.0  [{'cast_id': 3, 'character': 'Chun-soo', 'cred...   3923970   \n",
       "\n",
       "   original_language_FOREIGN  original_language_en years  \n",
       "0                          0                     1  [15]  \n",
       "1                          0                     1  [04]  \n",
       "2                          0                     1  [14]  \n",
       "3                          1                     0  [12]  \n",
       "4                          1                     0  [09]  "
      ]
     },
     "execution_count": 129,
     "metadata": {},
     "output_type": "execute_result"
    }
   ],
   "source": [
    "train.head()"
   ]
  },
  {
   "cell_type": "code",
   "execution_count": 130,
   "metadata": {},
   "outputs": [
    {
     "data": {
      "text/html": [
       "<div>\n",
       "<style scoped>\n",
       "    .dataframe tbody tr th:only-of-type {\n",
       "        vertical-align: middle;\n",
       "    }\n",
       "\n",
       "    .dataframe tbody tr th {\n",
       "        vertical-align: top;\n",
       "    }\n",
       "\n",
       "    .dataframe thead th {\n",
       "        text-align: right;\n",
       "    }\n",
       "</style>\n",
       "<table border=\"1\" class=\"dataframe\">\n",
       "  <thead>\n",
       "    <tr style=\"text-align: right;\">\n",
       "      <th></th>\n",
       "      <th>id</th>\n",
       "      <th>budget</th>\n",
       "      <th>genres</th>\n",
       "      <th>popularity</th>\n",
       "      <th>release_date</th>\n",
       "      <th>runtime</th>\n",
       "      <th>cast</th>\n",
       "      <th>original_language_FOREIGN</th>\n",
       "      <th>original_language_en</th>\n",
       "      <th>years</th>\n",
       "    </tr>\n",
       "  </thead>\n",
       "  <tbody>\n",
       "    <tr>\n",
       "      <th>0</th>\n",
       "      <td>3001</td>\n",
       "      <td>0</td>\n",
       "      <td>0              [Adventure, Animation, Family, ...</td>\n",
       "      <td>3.851534</td>\n",
       "      <td>7/14/07</td>\n",
       "      <td>90.0</td>\n",
       "      <td>[{'cast_id': 3, 'character': 'Tonio', 'credit_...</td>\n",
       "      <td>1</td>\n",
       "      <td>0</td>\n",
       "      <td>[07]</td>\n",
       "    </tr>\n",
       "    <tr>\n",
       "      <th>1</th>\n",
       "      <td>3002</td>\n",
       "      <td>88000</td>\n",
       "      <td>0              [Adventure, Animation, Family, ...</td>\n",
       "      <td>3.559789</td>\n",
       "      <td>5/19/58</td>\n",
       "      <td>65.0</td>\n",
       "      <td>[{'cast_id': 2, 'character': 'Nancy Fowler Arc...</td>\n",
       "      <td>0</td>\n",
       "      <td>1</td>\n",
       "      <td>[58]</td>\n",
       "    </tr>\n",
       "    <tr>\n",
       "      <th>2</th>\n",
       "      <td>3003</td>\n",
       "      <td>0</td>\n",
       "      <td>0              [Adventure, Animation, Family, ...</td>\n",
       "      <td>8.085194</td>\n",
       "      <td>5/23/97</td>\n",
       "      <td>100.0</td>\n",
       "      <td>[{'cast_id': 11, 'character': 'Maggie', 'credi...</td>\n",
       "      <td>0</td>\n",
       "      <td>1</td>\n",
       "      <td>[97]</td>\n",
       "    </tr>\n",
       "    <tr>\n",
       "      <th>3</th>\n",
       "      <td>3004</td>\n",
       "      <td>6800000</td>\n",
       "      <td>0              [Adventure, Animation, Family, ...</td>\n",
       "      <td>8.596012</td>\n",
       "      <td>9/4/10</td>\n",
       "      <td>130.0</td>\n",
       "      <td>[{'cast_id': 6, 'character': 'Nawal', 'credit_...</td>\n",
       "      <td>1</td>\n",
       "      <td>0</td>\n",
       "      <td>[10]</td>\n",
       "    </tr>\n",
       "    <tr>\n",
       "      <th>4</th>\n",
       "      <td>3005</td>\n",
       "      <td>2000000</td>\n",
       "      <td>0              [Adventure, Animation, Family, ...</td>\n",
       "      <td>3.217680</td>\n",
       "      <td>2/11/05</td>\n",
       "      <td>92.0</td>\n",
       "      <td>[{'cast_id': 1, 'character': 'Narrator (voice)...</td>\n",
       "      <td>0</td>\n",
       "      <td>1</td>\n",
       "      <td>[05]</td>\n",
       "    </tr>\n",
       "  </tbody>\n",
       "</table>\n",
       "</div>"
      ],
      "text/plain": [
       "     id   budget                                             genres  \\\n",
       "0  3001        0  0              [Adventure, Animation, Family, ...   \n",
       "1  3002    88000  0              [Adventure, Animation, Family, ...   \n",
       "2  3003        0  0              [Adventure, Animation, Family, ...   \n",
       "3  3004  6800000  0              [Adventure, Animation, Family, ...   \n",
       "4  3005  2000000  0              [Adventure, Animation, Family, ...   \n",
       "\n",
       "   popularity release_date  runtime  \\\n",
       "0    3.851534      7/14/07     90.0   \n",
       "1    3.559789      5/19/58     65.0   \n",
       "2    8.085194      5/23/97    100.0   \n",
       "3    8.596012       9/4/10    130.0   \n",
       "4    3.217680      2/11/05     92.0   \n",
       "\n",
       "                                                cast  \\\n",
       "0  [{'cast_id': 3, 'character': 'Tonio', 'credit_...   \n",
       "1  [{'cast_id': 2, 'character': 'Nancy Fowler Arc...   \n",
       "2  [{'cast_id': 11, 'character': 'Maggie', 'credi...   \n",
       "3  [{'cast_id': 6, 'character': 'Nawal', 'credit_...   \n",
       "4  [{'cast_id': 1, 'character': 'Narrator (voice)...   \n",
       "\n",
       "   original_language_FOREIGN  original_language_en years  \n",
       "0                          1                     0  [07]  \n",
       "1                          0                     1  [58]  \n",
       "2                          0                     1  [97]  \n",
       "3                          1                     0  [10]  \n",
       "4                          0                     1  [05]  "
      ]
     },
     "execution_count": 130,
     "metadata": {},
     "output_type": "execute_result"
    }
   ],
   "source": [
    "#do the same for test\n",
    "dates = list(test.release_date)\n",
    "#extract years\n",
    "years = list()\n",
    "for date in dates:\n",
    "    years.append(re.findall('..$',date))\n",
    "#add years to train df\n",
    "test['years']=years\n",
    "test.head()"
   ]
  },
  {
   "cell_type": "code",
   "execution_count": null,
   "metadata": {},
   "outputs": [],
   "source": []
  }
 ],
 "metadata": {
  "kernelspec": {
   "display_name": "Python 3",
   "language": "python",
   "name": "python3"
  },
  "language_info": {
   "codemirror_mode": {
    "name": "ipython",
    "version": 3
   },
   "file_extension": ".py",
   "mimetype": "text/x-python",
   "name": "python",
   "nbconvert_exporter": "python",
   "pygments_lexer": "ipython3",
   "version": "3.7.0"
  }
 },
 "nbformat": 4,
 "nbformat_minor": 2
}
